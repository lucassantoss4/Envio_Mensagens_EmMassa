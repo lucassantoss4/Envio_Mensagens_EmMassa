import pandas as pd
import win32com.client as win32
from datetime import datetime
import time
import os

# --- 1. Configurações e Variáveis ---
# DEFINA AS VARIÁVEIS AQUI PARA TORNAR O CÓDIGO FLEXÍVEL
NOME_PROJETO = "Plataforma de Inovação"
NOME_EMPRESA = "Nossa Empresa"
PASTA_ARQUIVOS = "dados_envio"
NOME_ARQUIVO_PLANILHA = os.path.join(PASTA_ARQUIVOS, "dados_colaboradores.xlsx")
ARQUIVO_LOG = os.path.join(PASTA_ARQUIVOS, "log_envio_emails.txt")
URL_PLATAFORMA = "https://link-para-sua-plataforma.com.br"
EMAIL_ASSUNTO = f"Convite: Participe da {NOME_PROJETO}"
DEPARTAMENTO_REMESSA = "Sua Equipe"

# --- 2. Funções Auxiliares ---
def registrar_log(mensagem):
    """Função para adicionar uma mensagem no arquivo de log com data e hora."""
    if not os.path.exists(PASTA_ARQUIVOS):
        os.makedirs(PASTA_ARQUIVOS)
    
    with open(ARQUIVO_LOG, 'a', encoding='utf-8') as f:
        f.write(f"[{datetime.now().strftime('%Y-%m-%d %H:%M:%S')}] {mensagem}\n")

def ler_planilha():
    """Tenta ler a planilha Excel e inicializa a coluna 'enviado' se não existir."""
    try:
        df = pd.read_excel(NOME_ARQUIVO_PLANILHA)
        if 'enviado' not in df.columns:
            df['enviado'] = False
        registrar_log("Planilha lida com sucesso.")
        print("Planilha lida. Iniciando o processo de envio...")
        return df
    except FileNotFoundError:
        registrar_log(f"ERRO: Arquivo '{NOME_ARQUIVO_PLANILHA}' não encontrado.")
        print(f"ERRO: Arquivo '{NOME_ARQUIVO_PLANILHA}' não encontrado. Por favor, verifique o nome e o caminho.")
        return None
    except Exception as e:
        registrar_log(f"ERRO: Ocorreu um erro ao ler a planilha. Detalhes: {e}")
        print(f"ERRO: Ocorreu um erro ao ler a planilha. Detalhes: {e}")
        return None

def conectar_outlook():
    """Tenta estabelecer a conexão com o Outlook."""
    try:
        outlook = win32.Dispatch('outlook.application')
        registrar_log("Conexão com o Outlook estabelecida.")
        print("Conexão com o Outlook estabelecida.")
        return outlook
    except Exception as e:
        registrar_log(f"ERRO: Falha na conexão com o Outlook. Detalhes: {e}")
        print("ERRO: O Outlook precisa estar instalado e aberto para o script funcionar.")
        return None

def salvar_planilha(df):
    """Salva o DataFrame atualizado de volta no arquivo Excel."""
    try:
        df.to_excel(NOME_ARQUIVO_PLANILHA, index=False)
        registrar_log("Status de envio salvo na planilha.")
        print("Processo concluído. A planilha foi atualizada com o status de envio.")
    except Exception as e:
        registrar_log(f"ERRO: Não foi possível salvar a planilha. Erro: {e}")
        print(f"ERRO: Ocorreu um erro ao salvar a planilha. Verifique se ela está fechada. Erro: {e}")

# --- 3. Geração do Corpo do E-mail (HTML) ---
def gerar_corpo_email(nome_colaborador):
    """Gera o corpo do e-mail em formato HTML, com personalização."""
    return f"""
    <html>
    <head></head>
    <body>
        <p>Olá, <strong>{nome_colaborador}</strong>!</p>
        <p>Você foi convidado a fazer parte da nossa <strong>{NOME_PROJETO}</strong>, a plataforma de inovação da <strong>{NOME_EMPRESA}</strong>.</p>
        <p>Aqui, todos os colaboradores têm voz e podem contribuir com ideias que ajudam a transformar nossos processos e impulsionar a empresa para o futuro.</p>
        <p>👉 Por que participar?</p>
        <ul>
            <li>A {NOME_PROJETO} valoriza a criatividade de cada colaborador.</li>
            <li>Toda ideia pode gerar impacto positivo para a empresa.</li>
            <li>Você ainda concorre a premiações especiais para as melhores ideias.</li>
        </ul>
        <p>👉 Como começar?</p>
        <ol>
            <li>Acesse o site: <a href="{URL_PLATAFORMA}">Link da Plataforma</a>.</li>
            <li>Cadastre-se com seu e-mail corporativo.</li>
            <li>Crie sua conta.</li>
        </ol>
        <p>Pronto! Agora é só registrar suas ideias e acompanhar todas as novidades.</p>
        <p><strong>🚀 Este é o seu convite para ser protagonista na construção do futuro da nossa empresa.</strong></p>
        <p>Não deixe de criar sua conta e começar a participar!</p>
        <p>Atenciosamente,<br>{DEPARTAMENTO_REMESSA}</p>
    </body>
    </html>
    """

# --- 4. Função Principal (Main) ---
def main():
    """Função principal que executa o fluxo do script."""
    df = ler_planilha()
    if df is None:
        return

    outlook = conectar_outlook()
    if outlook is None:
        return

    for index, row in df.iterrows():
        nome_colaborador = row['nome']
        email_destinatario = row['email']

        if row['enviado']:
            print(f"-> Pulando: E-mail para {nome_colaborador} já foi enviado.")
            registrar_log(f"INFO: Pulando e-mail para {nome_colaborador}, já enviado.")
            continue

        try:
            mail = outlook.CreateItem(0)
            mail.To = email_destinatario
            mail.Subject = EMAIL_ASSUNTO
            mail.HTMLBody = gerar_corpo_email(nome_colaborador)
            
            # Use 'mail.Send()' para enviar o e-mail
            # mail.Send()
            
            # Use 'mail.Display()' para abrir o e-mail sem enviar
            mail.Display()
            
            #time.sleep(2)
            
            print(f"-> E-mail enviado para {nome_colaborador} ({email_destinatario}).")
            registrar_log(f"SUCESSO: E-mail enviado para {nome_colaborador}.")
            df.loc[index, 'enviado'] = True

        except Exception as e:
            print(f"ERRO: Não foi possível enviar e-mail para {nome_colaborador}. Erro: {e}")
            registrar_log(f"ERRO: Falha no envio para {nome_colaborador}. Detalhes: {e}")
    
    salvar_planilha(df)
    print(f"\n--- Verifique o arquivo '{ARQUIVO_LOG}' para o histórico completo. ---")

# Executar a função principal
if __name__ == "__main__":
    main()
